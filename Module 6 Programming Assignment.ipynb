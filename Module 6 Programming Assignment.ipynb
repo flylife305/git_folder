{
 "cells": [
  {
   "cell_type": "code",
   "execution_count": 1,
   "metadata": {},
   "outputs": [
    {
     "name": "stdout",
     "output_type": "stream",
     "text": [
      "Success!\n"
     ]
    }
   ],
   "source": [
    "from datetime import datetime\n",
    "\n",
    "current_date = datetime.now().strftime(\"%Y-%m-%d\")\n",
    "\n",
    "with open(\"today.txt\", \"w\") as file:\n",
    "    file.write(current_date)\n",
    "    print(\"Success!\")"
   ]
  },
  {
   "cell_type": "code",
   "execution_count": 3,
   "metadata": {},
   "outputs": [
    {
     "name": "stdout",
     "output_type": "stream",
     "text": [
      "2025-04-23\n"
     ]
    }
   ],
   "source": [
    "with open (\"today.txt\", \"r\") as file:\n",
    "    today_string = file.read()\n",
    "    print(today_string)\n",
    "  "
   ]
  },
  {
   "cell_type": "code",
   "execution_count": 11,
   "metadata": {},
   "outputs": [
    {
     "name": "stdout",
     "output_type": "stream",
     "text": [
      "Success!\n",
      "2025-04-23\n"
     ]
    }
   ],
   "source": [
    "from datetime import datetime\n",
    "\n",
    "parsed_date = datetime.strptime(today_string, \"%Y-%m-%d\")\n",
    "print(\"Success!\")\n",
    "print (parsed_date.date())"
   ]
  },
  {
   "cell_type": "code",
   "execution_count": 1,
   "metadata": {},
   "outputs": [
    {
     "name": "stdout",
     "output_type": "stream",
     "text": [
      "Success!\n",
      "Process 2 woke up at 22:53:53.310 after waiting 0.623 seconds\n",
      "Process 1 woke up at 22:53:53.555 after waiting 0.853 seconds\n",
      "Process 3 woke up at 22:53:53.655 after waiting 0.958 seconds\n"
     ]
    }
   ],
   "source": [
    "from multiprocessing.dummy import Pool\n",
    "from datetime import datetime\n",
    "import time\n",
    "import random\n",
    "\n",
    "def worker(name):\n",
    "    wait_time = random.uniform(0, 1)\n",
    "    time.sleep(wait_time)\n",
    "    current_time = datetime.now().strftime(\"%H:%M:%S.%f\")[:-3]\n",
    "    print(f\"Process {name} woke up at {current_time} after waiting {wait_time:.3f} seconds\")\n",
    "\n",
    "names = [\"1\", \"2\", \"3\"]\n",
    "with Pool(3) as pool:\n",
    "    print (\"Success!\")\n",
    "    pool.map(worker, names)\n",
    "    "
   ]
  }
 ],
 "metadata": {
  "kernelspec": {
   "display_name": "Python 3",
   "language": "python",
   "name": "python3"
  },
  "language_info": {
   "codemirror_mode": {
    "name": "ipython",
    "version": 3
   },
   "file_extension": ".py",
   "mimetype": "text/x-python",
   "name": "python",
   "nbconvert_exporter": "python",
   "pygments_lexer": "ipython3",
   "version": "3.13.2"
  }
 },
 "nbformat": 4,
 "nbformat_minor": 2
}
